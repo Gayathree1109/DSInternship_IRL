{
 "cells": [
  {
   "cell_type": "markdown",
   "id": "5e47d1f3",
   "metadata": {},
   "source": [
    "<h1>DESCRIPTIVE STATISTICS</h1>"
   ]
  },
  {
   "cell_type": "markdown",
   "id": "ae29df29",
   "metadata": {},
   "source": [
    "<h3> 1. MEAN </h3>\n",
    "<ul>\n",
    "    <li> Mean is defined as the average of set of given values. </li>\n",
    "    <li> Mean is basically defined as sum of observations divided by the number of observations. </li>\n",
    "    <li> It is represented by the symbol ‘X̄’. </li> </ul>\n",
    "    \n",
    "<p> Mean = X̄ = $  (Sum  of  observations / Number  of  observations)  $ </p>\n",
    "<p> $ Mean = (x1 + x2 + x3 + … + xn)/n $ </p>\n"
   ]
  },
  {
   "cell_type": "markdown",
   "id": "da3c248c",
   "metadata": {},
   "source": [
    "<H4> CODE TO FIND MEAN </H4>"
   ]
  },
  {
   "cell_type": "code",
   "execution_count": 31,
   "id": "dd1fcbde",
   "metadata": {},
   "outputs": [
    {
     "name": "stdout",
     "output_type": "stream",
     "text": [
      "18818.0\n"
     ]
    }
   ],
   "source": [
    "import pandas as pd\n",
    "import statistics as st\n",
    "\n",
    "a = pd.read_csv(r'C:\\Users\\gayat\\Downloads\\data.csv')\n",
    "\n",
    "\n",
    "mean = a['Mthly_HH_Expense'].mean()\n",
    "print(mean)"
   ]
  },
  {
   "cell_type": "markdown",
   "id": "5b5a10fe",
   "metadata": {},
   "source": [
    "<h3> 2. MEDIAN </h3>\n",
    "<ul>\n",
    "    <li> Median is the middle value for any group of values. </li>\n",
    "    <li> Median is the average of the two middle values.  </li>\n",
    "    <li> With median, cantral position of the data is identified. </li> </ul>  \n",
    "<h5> Median for an odd data: </h5>   \n",
    "<p> Median =  $ [\\frac{(n + 1)}{2}]th term  $ </p>\n",
    "<h5> Median for an even data: </h5>   \n",
    "<p> Median =  $   \\frac{[(\\frac{n}{2})th term + ((\\frac {n}{2}) + 1)th term]}{2}  $ </p>\n",
    " $ </p>"
   ]
  },
  {
   "cell_type": "markdown",
   "id": "f5e0a919",
   "metadata": {},
   "source": [
    "<H4> CODE TO FIND MEDIAN </H4>"
   ]
  },
  {
   "cell_type": "code",
   "execution_count": 32,
   "id": "f38a5482",
   "metadata": {},
   "outputs": [
    {
     "name": "stdout",
     "output_type": "stream",
     "text": [
      "15500.0\n"
     ]
    }
   ],
   "source": [
    "median = a['Mthly_HH_Expense'].median()\n",
    "print(median)"
   ]
  },
  {
   "cell_type": "markdown",
   "id": "cc57279d",
   "metadata": {},
   "source": [
    "<h3> 3. MODE </h3>\n",
    "<ul> \n",
    "    <li> Mode is the most frequently occuring value in a given group of values. </li>\n",
    "    <li> A list can be unimodal, bimodal, trimodal, or multimodal, depending upon the number of modes it has. </li>\n",
    "    <li> Few lists doesn't even have repeating values. In such case, there is no mode. </li> </ul>\n",
    "<p> Mode = $ l + \\frac{f1-f0  }{  2f1 - f0 - f2} * h $ <br>\n",
    "    Where,\n",
    "\n",
    "l = lower limit of the modal class <br>\n",
    "h = size of the class interval <br>\n",
    "f1 = frequency of the modal class <br>\n",
    "f0 = frequency of the class preceding the modal class <br>\n",
    "f2 = frequency of the class succeeding the modal class  <br> </p>"
   ]
  },
  {
   "cell_type": "markdown",
   "id": "dec305bd",
   "metadata": {},
   "source": [
    "<H4> CODE TO FIND MODE </H4>"
   ]
  },
  {
   "cell_type": "code",
   "execution_count": 10,
   "id": "8263cea1",
   "metadata": {},
   "outputs": [
    {
     "name": "stdout",
     "output_type": "stream",
     "text": [
      "0    0\n",
      "dtype: int64\n"
     ]
    }
   ],
   "source": [
    "mode = a['Emi_or_Rent_Amt'].mode()\n",
    "print(mode)"
   ]
  },
  {
   "cell_type": "markdown",
   "id": "1437df6d",
   "metadata": {},
   "source": [
    "<h3> 4. VARIANCE </h3>\n",
    "<ul> \n",
    "    <li> The term variance refers to a statistical measurement of the spread between numbers in a data set. </li>\n",
    "    <li> More specifically, variance measures how far each number in the set is from the mean (average), and thus from every            other number in the set. </li>\n",
    "    <li> Variance is often depicted by this symbol: $ σ^2 $ </li>\n",
    "<p > $ σ^2  =  E(X – μ)^2  $\n",
    "<p> where <br>\n",
    "    X = Random variable <br>\n",
    "    μ = Mean of all values in the data set <br>\n",
    "    </p>"
   ]
  },
  {
   "cell_type": "markdown",
   "id": "ef4cdf19",
   "metadata": {},
   "source": [
    "<H4> CODE TO FIND VARIANCE </H4>"
   ]
  },
  {
   "cell_type": "code",
   "execution_count": 11,
   "id": "cd84b41c",
   "metadata": {},
   "outputs": [
    {
     "name": "stdout",
     "output_type": "stream",
     "text": [
      "38955510.20408163\n"
     ]
    }
   ],
   "source": [
    "variance = a['Emi_or_Rent_Amt'].var()\n",
    "print(variance)"
   ]
  },
  {
   "cell_type": "markdown",
   "id": "4c5e753c",
   "metadata": {},
   "source": [
    "<h3> 5. STANDARD DEVIATION </h3>\n",
    "<ul>\n",
    "    <li> Standard deviation is a statistic that measures the dispersion of a dataset relative to its mean and is calculated as          the square root of the variance. </li>\n",
    "    <li> The standard deviation is calculated as the square root of variance by determining each data point's deviation                  relative to the mean. </li>\n",
    "    <li> It is represented using σ </li> </ul>\n",
    "<p> $  σ =  sqrt(E(X – μ)^2) $ </p>"
   ]
  },
  {
   "cell_type": "markdown",
   "id": "3a9254d7",
   "metadata": {},
   "source": [
    "<H4> CODE TO FIND STANDARD DEVIATION </H4>"
   ]
  },
  {
   "cell_type": "code",
   "execution_count": 17,
   "id": "9b4375b1",
   "metadata": {},
   "outputs": [
    {
     "name": "stdout",
     "output_type": "stream",
     "text": [
      "320135.79212252516\n"
     ]
    }
   ],
   "source": [
    "std = a['Annual_HH_Income'].std() \n",
    "print(std)"
   ]
  },
  {
   "cell_type": "markdown",
   "id": "9c93c40d",
   "metadata": {},
   "source": [
    "<h3> 6. CORRELATION </h3>\n",
    "<ul> \n",
    "    <li> The corr() method calculates the relationship between each column in your data set. </li>\n",
    "    <li> The Result of the corr() method is a table with a lot of numbers that represents how well the relationship is between          two columns. </li> </ul>\n",
    "<p> \n",
    "The number varies from -1 to 1. <br>\n",
    "1 means that there is a 1 to 1 relationship (a perfect correlation). <br> \n",
    "0.9 is also a good relationship, and if you increase one value, the other will probably increase as well. <br>\n",
    "-0.9 would be just as good relationship as 0.9, but if you increase one value, the other will probably go down. <br>\n",
    "0.2 means NOT a good relationship, meaning that if one value goes up does not mean that the other will.  <br> </p>"
   ]
  },
  {
   "cell_type": "markdown",
   "id": "659d25ac",
   "metadata": {},
   "source": [
    "<H4> CODE TO FIND CORRELATION </H4>"
   ]
  },
  {
   "cell_type": "code",
   "execution_count": 22,
   "id": "ca8de4b6",
   "metadata": {},
   "outputs": [
    {
     "name": "stdout",
     "output_type": "stream",
     "text": [
      "                       Mthly_HH_Income  Mthly_HH_Expense  No_of_Fly_Members  \\\n",
      "Mthly_HH_Income               1.000000          0.649215           0.448317   \n",
      "Mthly_HH_Expense              0.649215          1.000000           0.639702   \n",
      "No_of_Fly_Members             0.448317          0.639702           1.000000   \n",
      "Emi_or_Rent_Amt               0.036976          0.405280           0.085808   \n",
      "Annual_HH_Income              0.970315          0.591222           0.430868   \n",
      "No_of_Earning_Members         0.347883          0.311915           0.597482   \n",
      "\n",
      "                       Emi_or_Rent_Amt  Annual_HH_Income  \\\n",
      "Mthly_HH_Income               0.036976          0.970315   \n",
      "Mthly_HH_Expense              0.405280          0.591222   \n",
      "No_of_Fly_Members             0.085808          0.430868   \n",
      "Emi_or_Rent_Amt               1.000000          0.002716   \n",
      "Annual_HH_Income              0.002716          1.000000   \n",
      "No_of_Earning_Members        -0.097431          0.296679   \n",
      "\n",
      "                       No_of_Earning_Members  \n",
      "Mthly_HH_Income                     0.347883  \n",
      "Mthly_HH_Expense                    0.311915  \n",
      "No_of_Fly_Members                   0.597482  \n",
      "Emi_or_Rent_Amt                    -0.097431  \n",
      "Annual_HH_Income                    0.296679  \n",
      "No_of_Earning_Members               1.000000  \n"
     ]
    }
   ],
   "source": [
    "cor = a.corr()\n",
    "print(cor)"
   ]
  },
  {
   "cell_type": "markdown",
   "id": "2e941dd5",
   "metadata": {},
   "source": [
    "<h3> 7. NORMAL DISTRIBUTIONS </h3>\n",
    "<ul>\n",
    "    <li> The normal distribution is a form of arranging the probability distribution of each value. </li> \n",
    "    <li> It appears as a bell curve. </li>\n",
    "    <li> Normal distributions are symmetrical, but not all symmetrical distributions are normal. </li>\n",
    "    <li> It is the key to Central Limit Theorem. </li> <ul>"
   ]
  },
  {
   "cell_type": "markdown",
   "id": "8c8ae1ec",
   "metadata": {},
   "source": [
    "<h3> 8. FEATURES OF NORMAL DISTRIBUTIONS </h3>\n",
    "<ul> \n",
    "    <li> The mean, median and mode of the distribution are equal. </li>\n",
    "    <li> These values represent the peak values of the distribution. </li>\n",
    "    <li> Width is found using the standard deviation </li> </ul>\n",
    "    "
   ]
  },
  {
   "cell_type": "markdown",
   "id": "1252ce88",
   "metadata": {},
   "source": [
    " <h3> 9. POSITIVE AND NEGATIVE SKEWNESS IN A NORMAL DISTRIBUTION </h3>\n",
    " <p> Skewness measures the degree of symmetry of the given distribution <br>\n",
    "     Skewness id broadly classified into two types:\n",
    "     <ol> <li> Negative Skewness </li>\n",
    "     <li> Positive skewness </ol> <p>\n",
    "    <h6> Negative Skewness </h6>\n",
    "    <ul> \n",
    "    <li> Negative skewness has the value less than 0 </li>\n",
    "    <li> It is also called left-skewness </li> </ul>\n",
    "    <h6> Positive Skewness </h6>\n",
    "    <ul>\n",
    "    <li> Positive skewness has the value more than 0 </li>\n",
    "    <li> It is also called right-skewness </li> </ul>\n",
    "    </p>\n",
    "    "
   ]
  },
  {
   "cell_type": "markdown",
   "id": "a0801e22",
   "metadata": {},
   "source": [
    "<h3> 10. EFFECT ON MEAN, MEDIAN AND MODE DUE TO SKEWNESS </h3>\n",
    "<ul>\n",
    "    <li> In a perfectly symmetrical distribution, the mean and the median are the same. </li> \n",
    "    <li> In a unimodal distribution , there exists a single mode which has a value equal to both mean and median  </li>\n",
    "    <li> A distribution is skewed to the left if  <br> $ mean < median < mode $ </li>\n",
    "    <li> If a mean is skewed to the right, it means that  <br> $ mean > median > mode $ </li> </ul>\n",
    " \n",
    " \n",
    " \n",
    " \n",
    " \n",
    " "
   ]
  },
  {
   "cell_type": "markdown",
   "id": "f553d07f",
   "metadata": {},
   "source": [
    "<h3> 11. QQ PLOTS </h3>\n",
    "<ul> \n",
    "    <li> QQ plot stands for quantile-quantile plot. </li>\n",
    "    <li> It is used to assess data from a theorotical distribution. </li> \n",
    "    <li> It is a basic scatterplot where we need to plot two sets of quantiles against each other. </li> </ul>\n"
   ]
  },
  {
   "cell_type": "markdown",
   "id": "6294b1f9",
   "metadata": {},
   "source": [
    "<h3> 12. BOX COX </h3>\n",
    "<ul> \n",
    "    <li> It is used for transforming a non-normally distributed to normally distributed data. </li> \n",
    "    <li> It is done in python using scypy.stats.boxcox() </li> </ul>"
   ]
  }
 ],
 "metadata": {
  "kernelspec": {
   "display_name": "Python 3",
   "language": "python",
   "name": "python3"
  },
  "language_info": {
   "codemirror_mode": {
    "name": "ipython",
    "version": 3
   },
   "file_extension": ".py",
   "mimetype": "text/x-python",
   "name": "python",
   "nbconvert_exporter": "python",
   "pygments_lexer": "ipython3",
   "version": "3.8.8"
  }
 },
 "nbformat": 4,
 "nbformat_minor": 5
}
